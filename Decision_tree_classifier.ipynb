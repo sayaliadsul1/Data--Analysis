{
 "cells": [
  {
   "cell_type": "markdown",
   "id": "e7cebd65",
   "metadata": {},
   "source": [
    "# Importing the libraries"
   ]
  },
  {
   "cell_type": "code",
   "execution_count": 1,
   "id": "d12cd95a",
   "metadata": {},
   "outputs": [],
   "source": [
    "import numpy as np\n",
    "import pandas as pd"
   ]
  },
  {
   "cell_type": "markdown",
   "id": "3a1ec025",
   "metadata": {},
   "source": [
    "# Importing the dataset"
   ]
  },
  {
   "cell_type": "code",
   "execution_count": 2,
   "id": "2cf2046f",
   "metadata": {},
   "outputs": [],
   "source": [
    "data=pd.read_csv(r\"C:\\Users\\Acer\\Desktop\\Dataset\\Social_Network_Ads.csv\")"
   ]
  },
  {
   "cell_type": "code",
   "execution_count": 3,
   "id": "2026934c",
   "metadata": {},
   "outputs": [
    {
     "data": {
      "text/html": [
       "<div>\n",
       "<style scoped>\n",
       "    .dataframe tbody tr th:only-of-type {\n",
       "        vertical-align: middle;\n",
       "    }\n",
       "\n",
       "    .dataframe tbody tr th {\n",
       "        vertical-align: top;\n",
       "    }\n",
       "\n",
       "    .dataframe thead th {\n",
       "        text-align: right;\n",
       "    }\n",
       "</style>\n",
       "<table border=\"1\" class=\"dataframe\">\n",
       "  <thead>\n",
       "    <tr style=\"text-align: right;\">\n",
       "      <th></th>\n",
       "      <th>Age</th>\n",
       "      <th>EstimatedSalary</th>\n",
       "      <th>Purchased</th>\n",
       "    </tr>\n",
       "  </thead>\n",
       "  <tbody>\n",
       "    <tr>\n",
       "      <th>0</th>\n",
       "      <td>19</td>\n",
       "      <td>19000</td>\n",
       "      <td>0</td>\n",
       "    </tr>\n",
       "    <tr>\n",
       "      <th>1</th>\n",
       "      <td>35</td>\n",
       "      <td>20000</td>\n",
       "      <td>0</td>\n",
       "    </tr>\n",
       "    <tr>\n",
       "      <th>2</th>\n",
       "      <td>26</td>\n",
       "      <td>43000</td>\n",
       "      <td>0</td>\n",
       "    </tr>\n",
       "    <tr>\n",
       "      <th>3</th>\n",
       "      <td>27</td>\n",
       "      <td>57000</td>\n",
       "      <td>0</td>\n",
       "    </tr>\n",
       "    <tr>\n",
       "      <th>4</th>\n",
       "      <td>19</td>\n",
       "      <td>76000</td>\n",
       "      <td>0</td>\n",
       "    </tr>\n",
       "    <tr>\n",
       "      <th>...</th>\n",
       "      <td>...</td>\n",
       "      <td>...</td>\n",
       "      <td>...</td>\n",
       "    </tr>\n",
       "    <tr>\n",
       "      <th>395</th>\n",
       "      <td>46</td>\n",
       "      <td>41000</td>\n",
       "      <td>1</td>\n",
       "    </tr>\n",
       "    <tr>\n",
       "      <th>396</th>\n",
       "      <td>51</td>\n",
       "      <td>23000</td>\n",
       "      <td>1</td>\n",
       "    </tr>\n",
       "    <tr>\n",
       "      <th>397</th>\n",
       "      <td>50</td>\n",
       "      <td>20000</td>\n",
       "      <td>1</td>\n",
       "    </tr>\n",
       "    <tr>\n",
       "      <th>398</th>\n",
       "      <td>36</td>\n",
       "      <td>33000</td>\n",
       "      <td>0</td>\n",
       "    </tr>\n",
       "    <tr>\n",
       "      <th>399</th>\n",
       "      <td>49</td>\n",
       "      <td>36000</td>\n",
       "      <td>1</td>\n",
       "    </tr>\n",
       "  </tbody>\n",
       "</table>\n",
       "<p>400 rows × 3 columns</p>\n",
       "</div>"
      ],
      "text/plain": [
       "     Age  EstimatedSalary  Purchased\n",
       "0     19            19000          0\n",
       "1     35            20000          0\n",
       "2     26            43000          0\n",
       "3     27            57000          0\n",
       "4     19            76000          0\n",
       "..   ...              ...        ...\n",
       "395   46            41000          1\n",
       "396   51            23000          1\n",
       "397   50            20000          1\n",
       "398   36            33000          0\n",
       "399   49            36000          1\n",
       "\n",
       "[400 rows x 3 columns]"
      ]
     },
     "execution_count": 3,
     "metadata": {},
     "output_type": "execute_result"
    }
   ],
   "source": [
    "data"
   ]
  },
  {
   "cell_type": "code",
   "execution_count": 4,
   "id": "22d064af",
   "metadata": {},
   "outputs": [
    {
     "name": "stdout",
     "output_type": "stream",
     "text": [
      "<class 'pandas.core.frame.DataFrame'>\n",
      "RangeIndex: 400 entries, 0 to 399\n",
      "Data columns (total 3 columns):\n",
      " #   Column           Non-Null Count  Dtype\n",
      "---  ------           --------------  -----\n",
      " 0   Age              400 non-null    int64\n",
      " 1   EstimatedSalary  400 non-null    int64\n",
      " 2   Purchased        400 non-null    int64\n",
      "dtypes: int64(3)\n",
      "memory usage: 9.5 KB\n"
     ]
    }
   ],
   "source": [
    "data.info()"
   ]
  },
  {
   "cell_type": "code",
   "execution_count": 5,
   "id": "b0753685",
   "metadata": {},
   "outputs": [
    {
     "data": {
      "text/plain": [
       "Age                0\n",
       "EstimatedSalary    0\n",
       "Purchased          0\n",
       "dtype: int64"
      ]
     },
     "execution_count": 5,
     "metadata": {},
     "output_type": "execute_result"
    }
   ],
   "source": [
    "data.isnull().sum()"
   ]
  },
  {
   "cell_type": "code",
   "execution_count": 6,
   "id": "759f9db5",
   "metadata": {},
   "outputs": [
    {
     "data": {
      "text/plain": [
       "0    257\n",
       "1    143\n",
       "Name: Purchased, dtype: int64"
      ]
     },
     "execution_count": 6,
     "metadata": {},
     "output_type": "execute_result"
    }
   ],
   "source": [
    "data[\"Purchased\"].value_counts()"
   ]
  },
  {
   "cell_type": "markdown",
   "id": "297ed980",
   "metadata": {},
   "source": [
    "# Data Slicing "
   ]
  },
  {
   "cell_type": "code",
   "execution_count": 7,
   "id": "38ce7d95",
   "metadata": {},
   "outputs": [],
   "source": [
    "x=data.iloc[:,:-1].values\n",
    "y=data.iloc[:,-1].values"
   ]
  },
  {
   "cell_type": "markdown",
   "id": "af7408c3",
   "metadata": {},
   "source": [
    "# Apply Imbalancing techinque SMOTE"
   ]
  },
  {
   "cell_type": "code",
   "execution_count": 8,
   "id": "c7308c9f",
   "metadata": {},
   "outputs": [],
   "source": [
    "from imblearn.over_sampling import SMOTE\n",
    "s=SMOTE()\n",
    "x_data,y_data=s.fit_resample(x,y)"
   ]
  },
  {
   "cell_type": "code",
   "execution_count": 9,
   "id": "4918281a",
   "metadata": {},
   "outputs": [
    {
     "name": "stdout",
     "output_type": "stream",
     "text": [
      "The Original data : Counter({0: 257, 1: 143})\n",
      "The Artificial data : Counter({0: 257, 1: 257})\n"
     ]
    }
   ],
   "source": [
    "from collections import Counter\n",
    "print(\"The Original data :\",Counter(y))\n",
    "print(\"The Artificial data :\",Counter(y_data))\n"
   ]
  },
  {
   "cell_type": "markdown",
   "id": "82f82899",
   "metadata": {},
   "source": [
    "# Apply Cross validation Technique Kfold"
   ]
  },
  {
   "cell_type": "code",
   "execution_count": 10,
   "id": "391e51a9",
   "metadata": {},
   "outputs": [
    {
     "name": "stdout",
     "output_type": "stream",
     "text": [
      "KFold(n_splits=5, random_state=2, shuffle=True)\n"
     ]
    }
   ],
   "source": [
    "from sklearn.model_selection import KFold\n",
    "kf=KFold(n_splits=5,random_state=2,shuffle=True)\n",
    "kf.get_n_splits(x_data)\n",
    "print(kf)\n"
   ]
  },
  {
   "cell_type": "markdown",
   "id": "c9db524f",
   "metadata": {},
   "source": [
    "# Splitting the dataset into the Training set and Test set"
   ]
  },
  {
   "cell_type": "code",
   "execution_count": 16,
   "id": "4c3807da",
   "metadata": {},
   "outputs": [
    {
     "name": "stdout",
     "output_type": "stream",
     "text": [
      "TRAIN :  [  0   2   3   4   5   6   8   9  10  11  13  16  17  19  21  22  23  25\n",
      "  26  27  29  30  31  33  34  35  36  37  38  39  42  43  44  45  46  47\n",
      "  48  49  50  51  52  53  54  56  57  58  59  60  61  62  63  64  68  70\n",
      "  71  72  73  74  75  76  78  79  80  81  82  83  85  86  87  88  90  91\n",
      "  92  93  94  95  96  97  98  99 101 102 104 105 106 107 108 110 111 112\n",
      " 113 114 115 116 117 118 119 121 122 123 124 125 126 127 128 130 132 133\n",
      " 134 135 136 137 138 139 140 142 143 144 145 147 148 149 150 151 153 156\n",
      " 157 158 159 160 162 163 164 166 167 168 169 170 171 172 174 177 181 182\n",
      " 184 185 186 187 188 189 190 191 192 195 196 197 201 202 203 204 205 206\n",
      " 207 208 209 210 211 212 213 214 215 217 218 219 220 221 222 223 224 226\n",
      " 227 229 230 232 233 234 237 238 239 240 241 242 243 244 245 246 247 248\n",
      " 249 250 252 253 254 255 256 257 260 261 262 263 264 265 270 271 272 273\n",
      " 274 276 277 278 279 280 283 285 286 287 288 289 290 291 292 293 294 295\n",
      " 296 297 298 299 302 307 308 309 310 311 312 313 314 315 316 317 318 319\n",
      " 320 321 322 323 324 325 326 328 329 330 331 332 334 335 336 337 338 339\n",
      " 341 342 343 344 345 346 347 348 349 350 351 352 353 355 356 358 359 360\n",
      " 361 363 364 365 366 367 368 369 370 371 372 373 374 375 376 377 378 379\n",
      " 380 381 382 384 385 386 387 388 389 390 392 393 396 397 398 399 401 402\n",
      " 403 404 405 406 407 408 411 414 415 416 417 419 422 424 425 426 427 429\n",
      " 430 431 432 433 434 435 436 437 438 439 440 441 442 444 445 448 449 450\n",
      " 451 452 453 454 457 458 459 460 461 463 464 465 466 467 469 470 471 472\n",
      " 473 476 477 478 479 480 481 482 483 485 486 487 490 492 493 494 495 496\n",
      " 497 498 499 500 501 502 503 504 506 507 508 509 510 512 513] TEST :  [  1   7  12  14  15  18  20  24  28  32  40  41  55  65  66  67  69  77\n",
      "  84  89 100 103 109 120 129 131 141 146 152 154 155 161 165 173 175 176\n",
      " 178 179 180 183 193 194 198 199 200 216 225 228 231 235 236 251 258 259\n",
      " 266 267 268 269 275 281 282 284 300 301 303 304 305 306 327 333 340 354\n",
      " 357 362 383 391 394 395 400 409 410 412 413 418 420 421 423 428 443 446\n",
      " 447 455 456 462 468 474 475 484 488 489 491 505 511]\n",
      "TRAIN :  [  0   1   4   5   6   7   8   9  11  12  14  15  16  18  19  20  21  22\n",
      "  23  24  26  27  28  31  32  33  34  35  36  38  39  40  41  43  44  45\n",
      "  46  47  48  49  50  51  52  54  55  56  57  58  59  60  61  62  63  64\n",
      "  65  66  67  69  71  72  73  74  75  76  77  78  79  80  81  82  83  84\n",
      "  85  86  87  88  89  91  92  93  95  96  97  98  99 100 101 102 103 104\n",
      " 105 107 108 109 110 111 112 113 115 116 118 120 121 122 123 124 125 126\n",
      " 127 128 129 131 132 133 135 136 137 138 139 140 141 143 144 145 146 147\n",
      " 148 149 151 152 153 154 155 156 158 161 162 164 165 166 167 168 169 173\n",
      " 174 175 176 177 178 179 180 181 183 184 185 186 187 189 190 191 193 194\n",
      " 195 196 197 198 199 200 201 202 204 206 207 208 210 211 213 216 217 218\n",
      " 219 220 224 225 228 229 231 233 234 235 236 237 238 239 241 242 243 245\n",
      " 246 247 248 249 250 251 252 253 254 255 257 258 259 260 261 262 263 266\n",
      " 267 268 269 270 271 272 273 274 275 276 278 279 280 281 282 284 287 288\n",
      " 289 290 292 293 295 296 297 298 299 300 301 302 303 304 305 306 308 309\n",
      " 311 312 313 315 316 317 318 319 320 321 322 323 324 325 326 327 329 331\n",
      " 333 335 336 337 338 340 341 342 343 344 348 349 350 351 353 354 356 357\n",
      " 358 359 360 361 362 363 364 366 367 368 370 371 372 373 374 375 377 379\n",
      " 380 381 382 383 385 386 390 391 392 394 395 397 400 401 402 404 406 408\n",
      " 409 410 412 413 414 415 416 417 418 419 420 421 422 423 424 425 426 428\n",
      " 430 431 432 433 434 436 437 438 439 441 442 443 444 446 447 448 450 451\n",
      " 452 454 455 456 457 458 459 460 461 462 463 464 465 466 468 469 471 472\n",
      " 473 474 475 476 478 479 481 482 484 485 486 487 488 489 490 491 492 493\n",
      " 495 496 497 498 499 500 501 502 505 506 507 509 510 511 513] TEST :  [  2   3  10  13  17  25  29  30  37  42  53  68  70  90  94 106 114 117\n",
      " 119 130 134 142 150 157 159 160 163 170 171 172 182 188 192 203 205 209\n",
      " 212 214 215 221 222 223 226 227 230 232 240 244 256 264 265 277 283 285\n",
      " 286 291 294 307 310 314 328 330 332 334 339 345 346 347 352 355 365 369\n",
      " 376 378 384 387 388 389 393 396 398 399 403 405 407 411 427 429 435 440\n",
      " 445 449 453 467 470 477 480 483 494 503 504 508 512]\n",
      "TRAIN :  [  0   1   2   3   7   8   9  10  12  13  14  15  16  17  18  19  20  21\n",
      "  22  24  25  26  27  28  29  30  31  32  33  34  36  37  38  40  41  42\n",
      "  43  45  46  47  48  49  50  51  52  53  55  56  58  59  61  62  63  65\n",
      "  66  67  68  69  70  72  73  75  76  77  78  79  80  81  83  84  86  88\n",
      "  89  90  92  94  95  96  97 100 102 103 106 107 109 110 114 115 116 117\n",
      " 119 120 121 122 123 124 125 129 130 131 132 133 134 135 136 137 138 139\n",
      " 141 142 143 145 146 148 149 150 152 154 155 157 158 159 160 161 162 163\n",
      " 165 167 168 170 171 172 173 175 176 177 178 179 180 182 183 184 185 187\n",
      " 188 191 192 193 194 195 196 197 198 199 200 201 202 203 205 206 207 208\n",
      " 209 210 211 212 213 214 215 216 218 219 221 222 223 224 225 226 227 228\n",
      " 229 230 231 232 233 234 235 236 238 239 240 242 244 245 246 247 248 249\n",
      " 250 251 252 254 255 256 257 258 259 260 261 263 264 265 266 267 268 269\n",
      " 271 272 273 275 277 278 281 282 283 284 285 286 287 288 290 291 292 293\n",
      " 294 295 296 298 299 300 301 302 303 304 305 306 307 308 310 311 313 314\n",
      " 315 316 319 323 324 325 326 327 328 329 330 331 332 333 334 336 338 339\n",
      " 340 343 345 346 347 348 351 352 354 355 356 357 359 360 361 362 363 364\n",
      " 365 366 367 369 371 373 374 376 377 378 379 380 383 384 385 387 388 389\n",
      " 391 392 393 394 395 396 398 399 400 401 402 403 404 405 406 407 408 409\n",
      " 410 411 412 413 416 418 420 421 423 424 425 426 427 428 429 430 431 433\n",
      " 434 435 436 437 438 440 442 443 445 446 447 448 449 450 451 453 454 455\n",
      " 456 457 458 459 460 461 462 463 464 465 466 467 468 470 471 472 474 475\n",
      " 476 477 479 480 481 483 484 485 486 487 488 489 490 491 492 493 494 495\n",
      " 496 498 501 502 503 504 505 506 507 508 509 510 511 512 513] TEST :  [  4   5   6  11  23  35  39  44  54  57  60  64  71  74  82  85  87  91\n",
      "  93  98  99 101 104 105 108 111 112 113 118 126 127 128 140 144 147 151\n",
      " 153 156 164 166 169 174 181 186 189 190 204 217 220 237 241 243 253 262\n",
      " 270 274 276 279 280 289 297 309 312 317 318 320 321 322 335 337 341 342\n",
      " 344 349 350 353 358 368 370 372 375 381 382 386 390 397 414 415 417 419\n",
      " 422 432 439 441 444 452 469 473 478 482 497 499 500]\n",
      "TRAIN :  [  1   2   3   4   5   6   7  10  11  12  13  14  15  17  18  19  20  22\n",
      "  23  24  25  26  28  29  30  31  32  33  34  35  37  38  39  40  41  42\n",
      "  43  44  47  49  50  51  52  53  54  55  56  57  58  60  61  64  65  66\n",
      "  67  68  69  70  71  72  73  74  75  76  77  80  81  82  83  84  85  86\n",
      "  87  88  89  90  91  93  94  95  96  97  98  99 100 101 102 103 104 105\n",
      " 106 108 109 111 112 113 114 116 117 118 119 120 121 124 125 126 127 128\n",
      " 129 130 131 132 134 136 137 138 140 141 142 144 146 147 150 151 152 153\n",
      " 154 155 156 157 159 160 161 162 163 164 165 166 167 168 169 170 171 172\n",
      " 173 174 175 176 178 179 180 181 182 183 185 186 188 189 190 192 193 194\n",
      " 195 196 198 199 200 203 204 205 207 209 211 212 213 214 215 216 217 218\n",
      " 220 221 222 223 225 226 227 228 230 231 232 233 235 236 237 238 240 241\n",
      " 243 244 246 247 248 251 252 253 254 255 256 258 259 260 262 263 264 265\n",
      " 266 267 268 269 270 271 274 275 276 277 279 280 281 282 283 284 285 286\n",
      " 287 288 289 291 293 294 295 296 297 299 300 301 302 303 304 305 306 307\n",
      " 309 310 312 314 316 317 318 319 320 321 322 323 324 325 326 327 328 330\n",
      " 332 333 334 335 337 339 340 341 342 343 344 345 346 347 349 350 351 352\n",
      " 353 354 355 357 358 359 360 361 362 363 365 366 368 369 370 372 373 375\n",
      " 376 378 380 381 382 383 384 385 386 387 388 389 390 391 392 393 394 395\n",
      " 396 397 398 399 400 401 402 403 404 405 406 407 409 410 411 412 413 414\n",
      " 415 417 418 419 420 421 422 423 426 427 428 429 430 432 433 434 435 439\n",
      " 440 441 443 444 445 446 447 448 449 450 451 452 453 454 455 456 460 462\n",
      " 466 467 468 469 470 473 474 475 477 478 480 482 483 484 488 489 491 493\n",
      " 494 496 497 498 499 500 503 504 505 507 508 509 511 512 513] TEST :  [  0   8   9  16  21  27  36  45  46  48  59  62  63  78  79  92 107 110\n",
      " 115 122 123 133 135 139 143 145 148 149 158 177 184 187 191 197 201 202\n",
      " 206 208 210 219 224 229 234 239 242 245 249 250 257 261 272 273 278 290\n",
      " 292 298 308 311 313 315 329 331 336 338 348 356 364 367 371 374 377 379\n",
      " 408 416 424 425 431 436 437 438 442 457 458 459 461 463 464 465 471 472\n",
      " 476 479 481 485 486 487 490 492 495 501 502 506 510]\n",
      "TRAIN :  [  0   1   2   3   4   5   6   7   8   9  10  11  12  13  14  15  16  17\n",
      "  18  20  21  23  24  25  27  28  29  30  32  35  36  37  39  40  41  42\n",
      "  44  45  46  48  53  54  55  57  59  60  62  63  64  65  66  67  68  69\n",
      "  70  71  74  77  78  79  82  84  85  87  89  90  91  92  93  94  98  99\n",
      " 100 101 103 104 105 106 107 108 109 110 111 112 113 114 115 117 118 119\n",
      " 120 122 123 126 127 128 129 130 131 133 134 135 139 140 141 142 143 144\n",
      " 145 146 147 148 149 150 151 152 153 154 155 156 157 158 159 160 161 163\n",
      " 164 165 166 169 170 171 172 173 174 175 176 177 178 179 180 181 182 183\n",
      " 184 186 187 188 189 190 191 192 193 194 197 198 199 200 201 202 203 204\n",
      " 205 206 208 209 210 212 214 215 216 217 219 220 221 222 223 224 225 226\n",
      " 227 228 229 230 231 232 234 235 236 237 239 240 241 242 243 244 245 249\n",
      " 250 251 253 256 257 258 259 261 262 264 265 266 267 268 269 270 272 273\n",
      " 274 275 276 277 278 279 280 281 282 283 284 285 286 289 290 291 292 294\n",
      " 297 298 300 301 303 304 305 306 307 308 309 310 311 312 313 314 315 317\n",
      " 318 320 321 322 327 328 329 330 331 332 333 334 335 336 337 338 339 340\n",
      " 341 342 344 345 346 347 348 349 350 352 353 354 355 356 357 358 362 364\n",
      " 365 367 368 369 370 371 372 374 375 376 377 378 379 381 382 383 384 386\n",
      " 387 388 389 390 391 393 394 395 396 397 398 399 400 403 405 407 408 409\n",
      " 410 411 412 413 414 415 416 417 418 419 420 421 422 423 424 425 427 428\n",
      " 429 431 432 435 436 437 438 439 440 441 442 443 444 445 446 447 449 452\n",
      " 453 455 456 457 458 459 461 462 463 464 465 467 468 469 470 471 472 473\n",
      " 474 475 476 477 478 479 480 481 482 483 484 485 486 487 488 489 490 491\n",
      " 492 494 495 497 499 500 501 502 503 504 505 506 508 510 511 512] TEST :  [ 19  22  26  31  33  34  38  43  47  49  50  51  52  56  58  61  72  73\n",
      "  75  76  80  81  83  86  88  95  96  97 102 116 121 124 125 132 136 137\n",
      " 138 162 167 168 185 195 196 207 211 213 218 233 238 246 247 248 252 254\n",
      " 255 260 263 271 287 288 293 295 296 299 302 316 319 323 324 325 326 343\n",
      " 351 359 360 361 363 366 373 380 385 392 401 402 404 406 426 430 433 434\n",
      " 448 450 451 454 460 466 493 496 498 507 509 513]\n"
     ]
    }
   ],
   "source": [
    "for train_index,test_index in kf.split(x_data):\n",
    "    print(\"TRAIN : \",train_index,\"TEST : \",test_index)\n",
    "    x_train,x_test=x_data[train_index],x_data[test_index]\n",
    "    y_train,y_test=y_data[train_index],y_data[test_index]\n",
    "    \n"
   ]
  },
  {
   "cell_type": "markdown",
   "id": "e8b3b9cf",
   "metadata": {},
   "source": [
    "# Training the Decision tree model on the Training set"
   ]
  },
  {
   "cell_type": "code",
   "execution_count": 19,
   "id": "06390d86",
   "metadata": {},
   "outputs": [
    {
     "name": "stdout",
     "output_type": "stream",
     "text": [
      "[0.89156627 0.91566265 0.8902439  0.82926829 0.86585366]\n",
      "87.85189538642373\n"
     ]
    },
    {
     "data": {
      "image/png": "[encoded data removed]",
      "text/plain": [
       "<Figure size 432x288 with 1 Axes>"
      ]
     },
     "metadata": {
      "needs_background": "light"
     },
     "output_type": "display_data"
    }
   ],
   "source": [
    "from sklearn import tree\n",
    "from sklearn.tree import DecisionTreeClassifier\n",
    "classifier=DecisionTreeClassifier(criterion=\"entropy\",random_state=0)\n",
    "classifier=classifier.fit(x_data,y_data)\n",
    "tree.plot_tree(classifier)\n",
    "from sklearn.model_selection import cross_val_score\n",
    "scores = cross_val_score(classifier, x_train,y_train, cv=kf)\n",
    "print(scores)\n",
    "print(np.mean(scores)*100)"
   ]
  },
  {
   "cell_type": "markdown",
   "id": "96c90eb0",
   "metadata": {},
   "source": [
    "# Predicting the Test set results"
   ]
  },
  {
   "cell_type": "code",
   "execution_count": 13,
   "id": "215ecb21",
   "metadata": {},
   "outputs": [
    {
     "data": {
      "text/plain": [
       "array([1, 1, 1, 1, 0, 1, 0, 0, 0, 0, 0, 0, 0, 0, 0, 0, 0, 1, 0, 0, 0, 0,\n",
       "       0, 0, 0, 0, 0, 1, 0, 0, 0, 0, 0, 0, 0, 1, 0, 0, 0, 1, 0, 0, 0, 1,\n",
       "       1, 0, 1, 1, 1, 0, 1, 0, 1, 1, 1, 0, 0, 1, 1, 0, 0, 0, 0, 1, 0, 0,\n",
       "       0, 1, 1, 0, 0, 1, 0, 0, 1, 1, 1, 1, 1, 1, 1, 1, 1, 1, 1, 1, 0, 0,\n",
       "       1, 1, 1, 1, 1, 0, 1, 1, 0, 1, 1, 1, 1, 1], dtype=int64)"
      ]
     },
     "execution_count": 13,
     "metadata": {},
     "output_type": "execute_result"
    }
   ],
   "source": [
    "from sklearn.model_selection import cross_val_predict\n",
    "y1_pred=cross_val_predict(classifier,x_test,y_test,cv=kf)\n",
    "y1_pred"
   ]
  },
  {
   "cell_type": "markdown",
   "id": "f46b80fe",
   "metadata": {},
   "source": [
    "# Accuracy_score, Confusion_matrix"
   ]
  },
  {
   "cell_type": "code",
   "execution_count": 14,
   "id": "4943c0f2",
   "metadata": {},
   "outputs": [
    {
     "name": "stdout",
     "output_type": "stream",
     "text": [
      "accuracy score :  84.31372549019608\n",
      "confusion matrix :\n",
      "[[46  8]\n",
      " [ 8 40]]\n"
     ]
    }
   ],
   "source": [
    "from sklearn.metrics import accuracy_score,confusion_matrix,classification_report\n",
    "ac1 = accuracy_score(y_test,y1_pred)*100\n",
    "cm1 = confusion_matrix(y_test,y1_pred)\n",
    "print(\"accuracy score : \",ac1)\n",
    "print(\"confusion matrix :\")\n",
    "print(cm1)"
   ]
  },
  {
   "cell_type": "code",
   "execution_count": null,
   "id": "a5ed265e",
   "metadata": {},
   "outputs": [],
   "source": []
  },
  {
   "cell_type": "code",
   "execution_count": null,
   "id": "df61e56e",
   "metadata": {},
   "outputs": [],
   "source": []
  }
 ],
 "metadata": {
  "kernelspec": {
   "display_name": "Python 3 (ipykernel)",
   "language": "python",
   "name": "python3"
  },
  "language_info": {
   "codemirror_mode": {
    "name": "ipython",
    "version": 3
   },
   "file_extension": ".py",
   "mimetype": "text/x-python",
   "name": "python",
   "nbconvert_exporter": "python",
   "pygments_lexer": "ipython3",
   "version": "3.9.7"
  }
 },
 "nbformat": 4,
 "nbformat_minor": 5
}
